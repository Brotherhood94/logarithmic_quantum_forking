{
 "cells": [
  {
   "cell_type": "markdown",
   "id": "c015b685",
   "metadata": {},
   "source": [
    "### This notebook provides the Qiskit implementation of the use case described in the paper.\n",
    "\n",
    "In particular, the task consists in the classification of multiple sample $s_i$ employing the classifier illustrated in [“Implementing a distance-based classifier with an interference circuit”](https://arxiv.org/abs/1703.10793). The notebook shows two circuits that address the same task respectively employing:\n",
    "\n",
    "1. the Logarithmic Quantum Forking (LQF) technique,\n",
    "2. the Quantum Forking-based Sampling (QFS) technique."
   ]
  },
  {
   "cell_type": "code",
   "execution_count": 1,
   "id": "c3bccac2",
   "metadata": {},
   "outputs": [],
   "source": [
    "import qiskit\n",
    "import numpy as np\n",
    "import pandas as pd\n",
    "import math\n",
    "import matplotlib.pyplot as plt\n",
    "\n",
    "from qiskit import ClassicalRegister, QuantumCircuit, QuantumRegister, BasicAer, Aer, execute\n",
    "from qiskit.circuit.library import RYGate, MCMT, RYGate,CRYGate, SwapGate\n",
    "from qiskit.visualization import plot_histogram\n",
    "from sklearn.model_selection import train_test_split\n",
    "from sklearn.datasets import load_iris\n",
    "from sklearn.preprocessing import StandardScaler\n",
    "from sklearn import preprocessing"
   ]
  },
  {
   "cell_type": "markdown",
   "id": "6756ed14",
   "metadata": {},
   "source": [
    "### Create a sample dataset"
   ]
  },
  {
   "cell_type": "code",
   "execution_count": 2,
   "id": "4aa66921",
   "metadata": {},
   "outputs": [],
   "source": [
    "\"\"\"\n",
    "We consider a two features (f0,f1) dataset. \n",
    "We encode f0,f1 in the amplitude of a qubit by rotating it by the angle returned by arctan2.\n",
    "\"\"\"\n",
    "\n",
    "X_train = np.array([np.arctan2(0.19,0.9)*2, np.arctan2(-0.4, -0.84)*2])\n",
    "y_train = [0, 1]\n",
    "X_sample = np.array([np.arctan2(-0.19,-0.9)*2, np.arctan2(0.6, 0.64)*2])"
   ]
  },
  {
   "cell_type": "markdown",
   "id": "890588f4",
   "metadata": {},
   "source": [
    "### Utility functions"
   ]
  },
  {
   "cell_type": "code",
   "execution_count": 3,
   "id": "a08ab276",
   "metadata": {},
   "outputs": [],
   "source": [
    "def _register_switcher(circuit, value, qubit_index):\n",
    "    \"\"\"\n",
    "        Encodes a value into a bistring in the circuit.\n",
    "        \n",
    "        Args:\n",
    "            circuit (QuantumCircuit): the circuit where to encode the bistring.\n",
    "            value (int): the value to encode.\n",
    "            qubit_index (QuantumRegister): the qubit register that encodes the bitstring.\n",
    "    \"\"\"\n",
    "    bin_str_pattern = '{:0%sb}' % len(qubit_index)\n",
    "    value = bin_str_pattern.format(value)[::-1]\n",
    "    for idx, bit in enumerate(value):\n",
    "        if not int(bit):\n",
    "            circuit.x(qubit_index[idx])\n",
    "\n",
    "\n",
    "def get_state_preparation_gate(X_train, y_train):\n",
    "    \"\"\"\n",
    "        Returns a quantum state that encodes the trainings into a Flip-Flop QRAM.\n",
    "    \n",
    "        Args: \n",
    "            X_train (numpy array): the training dataset features.\n",
    "            y_train (numpy array): the training dataset classes \n",
    "    \"\"\"\n",
    "    n_trainings = len(X_train)\n",
    "    n_classes = len(np.unique(y_train))\n",
    "    \n",
    "    \n",
    "    e = QuantumRegister(1, 'e') #qubit encoding feature values\n",
    "    r = QuantumRegister(1, 'r') #qubit encoding feature values\n",
    "    m = QuantumRegister(n_training_indexes, 'm') #training index\n",
    "    c = QuantumRegister(n_class_indexes, 'c') #class\n",
    "    \n",
    "\n",
    "    initial_state = QuantumCircuit(e,m,r,c, name=\"state_preparation\")\n",
    "    \n",
    "    initial_state.h(m)\n",
    "    initial_state.h(c)\n",
    "    \n",
    "    for idx, x_i, y_i in zip(range(len(X_train)), X_train, y_train):\n",
    "        _register_switcher(initial_state, idx, m) #Switching index\n",
    "        _register_switcher(initial_state, y_i, c) #Switching class\n",
    "\n",
    "        initial_state.mcry(x_i, e[0:]+m[0:]+c[0:], r[0])\n",
    "\n",
    "        _register_switcher(initial_state, y_i, c) #Switching class\n",
    "        _register_switcher(initial_state, idx, m) #Switching index\n",
    "    return initial_state"
   ]
  },
  {
   "cell_type": "code",
   "execution_count": 4,
   "id": "57015612",
   "metadata": {},
   "outputs": [],
   "source": [
    "T = len(X_sample) # the number of T forks is equal the number of samples we classify simultaneously\n",
    "n_trainings = len(X_train)\n",
    "n_classes = len(np.unique(y_train))\n",
    "\n",
    "\n",
    "n_fork_indexes = int(math.ceil(math.log2(T))) # number of qubits to index each fork\n",
    "n_training_indexes = int(math.ceil(math.log2(n_trainings))) # number of qubits to index the training data\n",
    "n_class_indexes = int(math.ceil(math.log2(n_classes))) # number of qubits to index each class"
   ]
  },
  {
   "cell_type": "markdown",
   "id": "efffbf1f",
   "metadata": {},
   "source": [
    "# Expected output of single classification (not using forking techniques)\n",
    "\n",
    "#### Follows the implementation of the distance-based classifier described [here](https://arxiv.org/abs/1703.10793)\n",
    "We will use it as a ground truth. In particular, we create a distinct circuit for each sample in X_sample, and we retrieve the output class. \n",
    "\n",
    "The output class of each circuit is appended in the variable \"output_configuration\".\n",
    "We want to assess that the bitstring of outputs in \"output_configuration\" coincides with the outputs obtained from LQF and QFS techniques."
   ]
  },
  {
   "cell_type": "code",
   "execution_count": 5,
   "id": "e9ab2555",
   "metadata": {},
   "outputs": [],
   "source": [
    "e = QuantumRegister(1, 'e') # ancilla euclidean distance\n",
    "r = QuantumRegister(1, 'r') # qubit encoding feature values\n",
    "m = QuantumRegister(n_training_indexes, 'm') # training indexes\n",
    "c = QuantumRegister(n_class_indexes, 'c') # class indexes\n",
    "\n",
    "ce = ClassicalRegister(1, 'ce') # store the measurement of ancilla \"e\"\n",
    "cc = ClassicalRegister(n_class_indexes, 'cc') # store the measurement of qubit \"c\". It corresponds to the classification output.\n",
    "\n",
    "\n",
    "#Initialize Quantum Circuit\n",
    "qc = QuantumCircuit(e,m,r,c,cc,ce)\n",
    "\n",
    "qc.h(e)\n",
    "qc.append(get_state_preparation_gate(X_train, y_train), [e]+m[0:]+[r]+c[0:])\n",
    "qc.barrier()\n",
    "\n",
    "qc.x(e)\n",
    "\n",
    "#Create distinct copy of qc\n",
    "qc_arr = []\n",
    "for i in range(T):\n",
    "    qc_arr.append(qc.copy())\n",
    "\n",
    "#For each copy, compute the classification of a different sample x_i\n",
    "for i, x_i in zip(range(len(X_sample)), X_sample):\n",
    "    qc_arr[i].mcry(x_i, e[0:], r[0])\n",
    "    qc_arr[i].h(e)\n",
    "    qc_arr[i].measure(e,ce)\n",
    "    qc_arr[i].measure(c,cc)\n",
    "    qc_arr[i].draw('mpl', fold=30)"
   ]
  },
  {
   "cell_type": "code",
   "execution_count": 6,
   "id": "1c1f1cba",
   "metadata": {},
   "outputs": [
    {
     "name": "stdout",
     "output_type": "stream",
     "text": [
      "Expected output using forking techniques: 01\n"
     ]
    }
   ],
   "source": [
    "output_configuration = '' # bitstring that stores the result of each circuit\n",
    "\n",
    "for i in range(len(qc_arr)):\n",
    "    simulator = Aer.get_backend('qasm_simulator')\n",
    "    result = execute(qc_arr[i], simulator, shots=8192).result()\n",
    "    counts = result.get_counts(qc_arr[i])\n",
    "\n",
    "    counts = {k:v for (k,v) in counts.items() if int(k[0])==0} #Post Selection on |e> == 0\n",
    "    output_qc = max(counts, key=counts.get)[2:2+len(cc)]\n",
    "    output_configuration = output_qc + output_configuration\n",
    "\n",
    "#left-most bit represents the output classification of the last circuit.\n",
    "print(\"Expected output using forking techniques: {}\".format(output_configuration))"
   ]
  },
  {
   "cell_type": "markdown",
   "id": "fc8b5cd8",
   "metadata": {},
   "source": [
    "## Logarithmic Quantum Forking (LQF)\n",
    "\n",
    "#### Follows the qiskit implementation of the distance-based classfier that employs the LQF technique described in the paper."
   ]
  },
  {
   "cell_type": "code",
   "execution_count": 7,
   "id": "19d8d443",
   "metadata": {},
   "outputs": [
    {
     "data": {
      "image/png": "[encoded data removed]",
      "text/plain": [
       "<Figure size 1649.92x505.68 with 1 Axes>"
      ]
     },
     "execution_count": 7,
     "metadata": {},
     "output_type": "execute_result"
    }
   ],
   "source": [
    "e = QuantumRegister(1, 'e') # ancilla euclidean distance\n",
    "d = QuantumRegister(n_fork_indexes, 'd') # fork indexes\n",
    "r = QuantumRegister(1, 'r') # qubit encoding feature values\n",
    "m = QuantumRegister(n_training_indexes, 'm') # training indexes\n",
    "c = QuantumRegister(n_class_indexes*T, 'c') # class indexes. |c> is a single quantum register of size n_class_indexes*T that stores the output of each T classification.\n",
    "\n",
    "ce = ClassicalRegister(1, 'ce') # store the measurement of ancilla \"e\"\n",
    "cc = ClassicalRegister(n_class_indexes*T, 'cc') # store the measurement of qubit \"c\". It corresponds to the classifications output.\n",
    "\n",
    "qc = QuantumCircuit(e,d,m,r,c,cc,ce)\n",
    "\n",
    "qc.h(e)\n",
    "\n",
    "\n",
    "########## FORKING - Prepare the initial state and forking it 2^d = T branches.\n",
    "qc.append(get_state_preparation_gate(X_train, y_train), [e]+m[0:]+[r]+c[0:n_class_indexes])\n",
    "qc.barrier()\n",
    "\n",
    "qc.h(d) #Fork the initial state in 2^d branches.\n",
    "qc.barrier()\n",
    "\n",
    "qc.x(e)\n",
    "qc.barrier()\n",
    "\n",
    "########## EVOLUTION - Encode samples to be classified\n",
    "for idx, x_i in zip(range(len(X_sample)), X_sample):\n",
    "    _register_switcher(qc, idx, d) #Switching fork\n",
    "    qc.append(MCMT(CRYGate(x_i), num_ctrl_qubits=len(e[0:]+d[0:]), num_target_qubits=1), e[0:]+d[0:]+[r])\n",
    "    _register_switcher(qc, idx, d) #Switching fork back\n",
    "    qc.barrier()\n",
    "\n",
    "    \n",
    "######### Compute quantum euclidean distance\n",
    "qc.barrier()\n",
    "qc.h(e)\n",
    "qc.measure(e,ce)\n",
    "qc.barrier()\n",
    "\n",
    "\n",
    "\n",
    "########## MEASUREMENTS - Retrieve the 2 classifications in 1 shot exploiting LQF\n",
    "qc.h(c[n_class_indexes:])\n",
    "ccSwapGate = SwapGate().control(len(d))\n",
    "\n",
    "for i in range(1,T): #switch fork\n",
    "    _register_switcher(qc, i, d) #Switching fork\n",
    "    for j in range(n_class_indexes): #switch index\n",
    "        qc.append(ccSwapGate, d[0:]+[c[j]]+[c[(n_class_indexes*i+j)]])\n",
    "    _register_switcher(qc, i, d) #Switching fork back\n",
    "    qc.barrier()\n",
    "\n",
    "qc.measure(c,cc)\n",
    "\n",
    "qc.draw('mpl', fold=30)"
   ]
  },
  {
   "cell_type": "code",
   "execution_count": 8,
   "id": "811d370d",
   "metadata": {},
   "outputs": [
    {
     "name": "stdout",
     "output_type": "stream",
     "text": [
      "LQF Outputs configuration: \n"
     ]
    },
    {
     "data": {
      "image/png": "[encoded data removed]",
      "text/plain": [
       "<Figure size 504x360 with 1 Axes>"
      ]
     },
     "execution_count": 8,
     "metadata": {},
     "output_type": "execute_result"
    }
   ],
   "source": [
    "simulator = Aer.get_backend('qasm_simulator')\n",
    "result = execute(qc, simulator, shots=8192).result()\n",
    "counts = result.get_counts(qc)\n",
    "\n",
    "# Post Selection on e == 0\n",
    "counts = {k[2:3+len(d)]:v for (k,v) in counts.items() if int(k[0])==0}\n",
    "output_configuration_lqf = max(counts, key=counts.get)[2:2+len(cc)]\n",
    "\n",
    "\n",
    "# The highest probability corresponds to the output assignment configuration.\n",
    "# Example: given 2 classes and 2 samples, we need 2 qubits |c1c0>: \n",
    "#    - c1 stores the result of the last sample,\n",
    "#    - c0 stores the result of the first sample.\n",
    "# If the configuration |c1c0> = 01 has the highest probability, it means that the first and the second sample has been classified respectivily as 0 and 1.\n",
    "\n",
    "print(\"LQF Outputs configuration: {}\".format(output_configuration_lqf))\n",
    "plot_histogram(counts)"
   ]
  },
  {
   "cell_type": "markdown",
   "id": "4d629346",
   "metadata": {},
   "source": [
    "## Quantum Forking-based Sampling (QFS) \n",
    "\n",
    "#### Follows the qiskit implementation of the distance-based classfier that employs the QFS technique."
   ]
  },
  {
   "cell_type": "code",
   "execution_count": 11,
   "id": "bfe50696",
   "metadata": {},
   "outputs": [
    {
     "ename": "NameError",
     "evalue": "name 'qubits_swapper' is not defined",
     "output_type": "error",
     "traceback": [
      "\u001b[0;31m---------------------------------------------------------------------------\u001b[0m",
      "\u001b[0;31mNameError\u001b[0m                                 Traceback (most recent call last)",
      "\u001b[0;32m/var/folders/37/8ckg6c8n10n94f4dv2xdfll00000gn/T/ipykernel_8508/201851273.py\u001b[0m in \u001b[0;36m<module>\u001b[0;34m\u001b[0m\n\u001b[1;32m     41\u001b[0m     \u001b[0m_register_switcher\u001b[0m\u001b[0;34m(\u001b[0m\u001b[0mqc\u001b[0m\u001b[0;34m,\u001b[0m \u001b[0mi\u001b[0m\u001b[0;34m,\u001b[0m \u001b[0md\u001b[0m\u001b[0;34m)\u001b[0m \u001b[0;31m#Switching fork\u001b[0m\u001b[0;34m\u001b[0m\u001b[0;34m\u001b[0m\u001b[0m\n\u001b[1;32m     42\u001b[0m     \u001b[0;32mfor\u001b[0m \u001b[0mj\u001b[0m \u001b[0;32min\u001b[0m \u001b[0mrange\u001b[0m\u001b[0;34m(\u001b[0m\u001b[0mlen\u001b[0m\u001b[0;34m(\u001b[0m\u001b[0mfork_qubits\u001b[0m\u001b[0;34m[\u001b[0m\u001b[0;36m0\u001b[0m\u001b[0;34m]\u001b[0m\u001b[0;34m)\u001b[0m\u001b[0;34m)\u001b[0m\u001b[0;34m:\u001b[0m \u001b[0;31m#Switching qubits of fork 0 with fork j\u001b[0m\u001b[0;34m\u001b[0m\u001b[0;34m\u001b[0m\u001b[0m\n\u001b[0;32m---> 43\u001b[0;31m         \u001b[0mqubits_swapper\u001b[0m\u001b[0;34m(\u001b[0m\u001b[0mqc\u001b[0m\u001b[0;34m,\u001b[0m \u001b[0md\u001b[0m\u001b[0;34m,\u001b[0m \u001b[0mfork_qubits\u001b[0m\u001b[0;34m[\u001b[0m\u001b[0;36m0\u001b[0m\u001b[0;34m]\u001b[0m\u001b[0;34m[\u001b[0m\u001b[0mj\u001b[0m\u001b[0;34m]\u001b[0m\u001b[0;34m,\u001b[0m \u001b[0mfork_qubits\u001b[0m\u001b[0;34m[\u001b[0m\u001b[0mi\u001b[0m\u001b[0;34m]\u001b[0m\u001b[0;34m[\u001b[0m\u001b[0mj\u001b[0m\u001b[0;34m]\u001b[0m\u001b[0;34m)\u001b[0m\u001b[0;34m\u001b[0m\u001b[0;34m\u001b[0m\u001b[0m\n\u001b[0m\u001b[1;32m     44\u001b[0m     \u001b[0m_register_switcher\u001b[0m\u001b[0;34m(\u001b[0m\u001b[0mqc\u001b[0m\u001b[0;34m,\u001b[0m \u001b[0mi\u001b[0m\u001b[0;34m,\u001b[0m \u001b[0md\u001b[0m\u001b[0;34m)\u001b[0m\u001b[0;34m\u001b[0m\u001b[0;34m\u001b[0m\u001b[0m\n\u001b[1;32m     45\u001b[0m     \u001b[0mqc\u001b[0m\u001b[0;34m.\u001b[0m\u001b[0mbarrier\u001b[0m\u001b[0;34m(\u001b[0m\u001b[0;34m)\u001b[0m\u001b[0;34m\u001b[0m\u001b[0;34m\u001b[0m\u001b[0m\n",
      "\u001b[0;31mNameError\u001b[0m: name 'qubits_swapper' is not defined"
     ]
    }
   ],
   "source": [
    "qubits = []\n",
    "fork_qubits = {}\n",
    "\n",
    "for i in range(T):\n",
    "    globals()[f\"e_{i}\"] = QuantumRegister(1, 'e_'+str(i)) #ancilla euclidean distance\n",
    "    globals()[f\"r_{i}\"] = QuantumRegister(1, 'r_'+str(i)) #qubit encoding feature values\n",
    "    globals()[f\"m_{i}\"] = QuantumRegister(n_training_indexes, 'm_'+str(i)) #training index\n",
    "    globals()[f\"c_{i}\"] = QuantumRegister(n_class_indexes, 'c_'+str(i)) #class\n",
    "    elems = [globals()[f\"e_{i}\"],\n",
    "                        globals()[f\"r_{i}\"],\n",
    "                        globals()[f\"m_{i}\"],\n",
    "                        globals()[f\"c_{i}\"]\n",
    "                       ]\n",
    "    fork_qubits[i] = elems\n",
    "    qubits.extend(elems)\n",
    "\n",
    "cc_arr = []\n",
    "for i in range(T):\n",
    "    globals()[f\"cc_{i}\"] = ClassicalRegister(n_class_indexes, 'cc_'+str(i))\n",
    "    cc_arr.append(globals()[f\"cc_{i}\"])\n",
    "    \n",
    "ce_arr = []  \n",
    "for i in range(T):\n",
    "    globals()[f\"ce_{i}\"] = ClassicalRegister(1, 'ce_'+str(i))\n",
    "    ce_arr.append(globals()[f\"ce_{i}\"])\n",
    "\n",
    "\n",
    "d = QuantumRegister(n_fork_indexes, 'd') #fork indexes\n",
    "qc = QuantumCircuit(d,*qubits, *cc_arr, *ce_arr)\n",
    "\n",
    "\n",
    "########## FORKING - Prepare the initial state and forking it 2^d = T branches.\n",
    "qc.h(e_0)\n",
    "qc.append(get_state_preparation_gate(X_train, y_train), [e_0]+m_0[0:]+[r_0]+c_0[0:n_class_indexes])\n",
    "qc.barrier()\n",
    "\n",
    "qc.h(d)\n",
    "qc.barrier()\n",
    "\n",
    "for i in range(1, T):\n",
    "    _register_switcher(qc, i, d) #Switching fork\n",
    "    for j in range(len(fork_qubits[0])): #Switching qubits of fork 0 with fork j\n",
    "        qubits_swapper(qc, d, fork_qubits[0][j], fork_qubits[i][j])\n",
    "    _register_switcher(qc, i, d)\n",
    "    qc.barrier()\n",
    "\n",
    "\n",
    "########## EVOLUTION - Encode samples to be classified\n",
    "for idx, x_i in zip(range(len(X_sample)), X_sample):\n",
    "    qc.x(globals()[f\"e_{idx}\"])\n",
    "    qc.append(MCMT(CRYGate(x_i), num_ctrl_qubits=len(globals()[f\"e_{idx}\"]), num_target_qubits=1), [globals()[f\"e_{idx}\"]]+[globals()[f\"r_{idx}\"]])\n",
    "\n",
    "######### Compute quantum euclidean distance\n",
    "    qc.h(globals()[f\"e_{idx}\"])\n",
    "qc.barrier()\n",
    "\n",
    "for i in range(T):\n",
    "    qc.measure(globals()[f\"e_{i}\"],globals()[f\"ce_{i}\"])\n",
    "\n",
    "\n",
    "    \n",
    "########## MEASUREMENTS - Retrieve the 2 classifications in 1 shot exploiting LQF\n",
    "ccSwapGate = SwapGate().control(len(d))\n",
    "for i in range(1, T):\n",
    "    _register_switcher(qc, i, d) # Switching fork\n",
    "    for j in range(len(globals()[f\"c_{0}\"])): # Switch index\n",
    "        qc.append(ccSwapGate, d[0:]+[globals()[f\"c_{0}\"][j]]+[globals()[f\"c_{i}\"][j]])\n",
    "    _register_switcher(qc, i, d) # Switching fork back\n",
    "    qc.barrier()    \n",
    "    \n",
    "    \n",
    "for i in range(1,T):\n",
    "    qc.h(globals()[f\"c_{i}\"])\n",
    "\n",
    "for i in range(1, T):\n",
    "    _register_switcher(qc, i, d) # Switching fork\n",
    "    for j in range(len(globals()[f\"c_{0}\"])): #switch index\n",
    "        qc.append(ccSwapGate, d[0:]+[globals()[f\"c_{0}\"][j]]+[globals()[f\"c_{i}\"][j]])                                                            \n",
    "    _register_switcher(qc, i, d) # Switching fork back\n",
    "    qc.barrier()    \n",
    "    \n",
    "for i in range(T):    \n",
    "    qc.measure(globals()[f\"c_{i}\"],globals()[f\"cc_{i}\"])\n",
    "\n",
    "qc.barrier()\n",
    "\n",
    "qc.draw('mpl', fold=30)"
   ]
  },
  {
   "cell_type": "code",
   "execution_count": 10,
   "id": "7d970b7a",
   "metadata": {},
   "outputs": [
    {
     "ename": "QiskitError",
     "evalue": "'No counts for experiment \"<qiskit.circuit.quantumcircuit.QuantumCircuit object at 0x7f92cae0ba00>\"'",
     "output_type": "error",
     "traceback": [
      "\u001b[0;31m---------------------------------------------------------------------------\u001b[0m",
      "\u001b[0;31mQiskitError\u001b[0m                               Traceback (most recent call last)",
      "\u001b[0;32m/var/folders/37/8ckg6c8n10n94f4dv2xdfll00000gn/T/ipykernel_8508/1321428259.py\u001b[0m in \u001b[0;36m<module>\u001b[0;34m\u001b[0m\n\u001b[1;32m      1\u001b[0m \u001b[0msimulator\u001b[0m \u001b[0;34m=\u001b[0m \u001b[0mAer\u001b[0m\u001b[0;34m.\u001b[0m\u001b[0mget_backend\u001b[0m\u001b[0;34m(\u001b[0m\u001b[0;34m'qasm_simulator'\u001b[0m\u001b[0;34m)\u001b[0m\u001b[0;34m\u001b[0m\u001b[0;34m\u001b[0m\u001b[0m\n\u001b[1;32m      2\u001b[0m \u001b[0mresult\u001b[0m \u001b[0;34m=\u001b[0m \u001b[0mexecute\u001b[0m\u001b[0;34m(\u001b[0m\u001b[0mqc\u001b[0m\u001b[0;34m,\u001b[0m \u001b[0msimulator\u001b[0m\u001b[0;34m,\u001b[0m \u001b[0mshots\u001b[0m\u001b[0;34m=\u001b[0m\u001b[0;36m8192\u001b[0m\u001b[0;34m)\u001b[0m\u001b[0;34m.\u001b[0m\u001b[0mresult\u001b[0m\u001b[0;34m(\u001b[0m\u001b[0;34m)\u001b[0m\u001b[0;34m\u001b[0m\u001b[0;34m\u001b[0m\u001b[0m\n\u001b[0;32m----> 3\u001b[0;31m \u001b[0mcounts\u001b[0m \u001b[0;34m=\u001b[0m \u001b[0mresult\u001b[0m\u001b[0;34m.\u001b[0m\u001b[0mget_counts\u001b[0m\u001b[0;34m(\u001b[0m\u001b[0mqc\u001b[0m\u001b[0;34m)\u001b[0m\u001b[0;34m\u001b[0m\u001b[0;34m\u001b[0m\u001b[0m\n\u001b[0m\u001b[1;32m      4\u001b[0m \u001b[0;34m\u001b[0m\u001b[0m\n\u001b[1;32m      5\u001b[0m \u001b[0;31m#Post Selection on e_0,e_1,...,e_{T-1} == 0_0,0_1..0_{T-1}\u001b[0m\u001b[0;34m\u001b[0m\u001b[0;34m\u001b[0m\u001b[0m\n",
      "\u001b[0;32m~/opt/anaconda3/envs/qiskit/lib/python3.9/site-packages/qiskit/result/result.py\u001b[0m in \u001b[0;36mget_counts\u001b[0;34m(self, experiment)\u001b[0m\n\u001b[1;32m    298\u001b[0m                 \u001b[0mdict_list\u001b[0m\u001b[0;34m.\u001b[0m\u001b[0mappend\u001b[0m\u001b[0;34m(\u001b[0m\u001b[0mstatevector\u001b[0m\u001b[0;34m.\u001b[0m\u001b[0mStatevector\u001b[0m\u001b[0;34m(\u001b[0m\u001b[0mvec\u001b[0m\u001b[0;34m)\u001b[0m\u001b[0;34m.\u001b[0m\u001b[0mprobabilities_dict\u001b[0m\u001b[0;34m(\u001b[0m\u001b[0mdecimals\u001b[0m\u001b[0;34m=\u001b[0m\u001b[0;36m15\u001b[0m\u001b[0;34m)\u001b[0m\u001b[0;34m)\u001b[0m\u001b[0;34m\u001b[0m\u001b[0;34m\u001b[0m\u001b[0m\n\u001b[1;32m    299\u001b[0m             \u001b[0;32melse\u001b[0m\u001b[0;34m:\u001b[0m\u001b[0;34m\u001b[0m\u001b[0;34m\u001b[0m\u001b[0m\n\u001b[0;32m--> 300\u001b[0;31m                 \u001b[0;32mraise\u001b[0m \u001b[0mQiskitError\u001b[0m\u001b[0;34m(\u001b[0m\u001b[0;34mf'No counts for experiment \"{repr(key)}\"'\u001b[0m\u001b[0;34m)\u001b[0m\u001b[0;34m\u001b[0m\u001b[0;34m\u001b[0m\u001b[0m\n\u001b[0m\u001b[1;32m    301\u001b[0m \u001b[0;34m\u001b[0m\u001b[0m\n\u001b[1;32m    302\u001b[0m         \u001b[0;31m# Return first item of dict_list if size is 1\u001b[0m\u001b[0;34m\u001b[0m\u001b[0;34m\u001b[0m\u001b[0m\n",
      "\u001b[0;31mQiskitError\u001b[0m: 'No counts for experiment \"<qiskit.circuit.quantumcircuit.QuantumCircuit object at 0x7f92cae0ba00>\"'"
     ]
    }
   ],
   "source": [
    "simulator = Aer.get_backend('qasm_simulator')\n",
    "result = execute(qc, simulator, shots=8192).result()\n",
    "counts = result.get_counts(qc)\n",
    "\n",
    "#Post Selection on e_0,e_1,...,e_{T-1} == 0_0,0_1..0_{T-1}\n",
    "counts = {k.replace(' ',''):v for (k,v) in counts.items()}\n",
    "\n",
    "# The number of post-selections grows as the number of samples to classify\n",
    "post_selection_pattern = '0' * T \n",
    "counts = {k[2:3+len(d)]:v for (k,v) in counts.items() if k[:T]==post_selection_pattern}\n",
    "output_configuration_qfs = max(counts, key=counts.get)[T:]\n",
    "\n",
    "\n",
    "# The highest probability corresponds to the output assignment configuration.\n",
    "# Example: given 2 classes and 2 samples, we need 2 qubits |c1c0>: \n",
    "#    - c1 stores the result of the last sample,\n",
    "#    - c0 stores the result of the first sample.\n",
    "# If the configuration |c1c0> = 01 has the highest probability, it means that the first and the second sample has been classified respectivily as 0 and 1.\n",
    "\n",
    "print(\"QFS Outputs configuration: {}\".format(output_configuration_qfs))\n",
    "plot_histogram(counts)"
   ]
  },
  {
   "cell_type": "code",
   "execution_count": null,
   "id": "5ab53365",
   "metadata": {},
   "outputs": [],
   "source": []
  },
  {
   "cell_type": "code",
   "execution_count": null,
   "id": "5cd8ca23",
   "metadata": {},
   "outputs": [],
   "source": []
  }
 ],
 "metadata": {
  "kernelspec": {
   "display_name": "Python 3 (ipykernel)",
   "language": "python",
   "name": "python3"
  },
  "language_info": {
   "codemirror_mode": {
    "name": "ipython",
    "version": 3
   },
   "file_extension": ".py",
   "mimetype": "text/x-python",
   "name": "python",
   "nbconvert_exporter": "python",
   "pygments_lexer": "ipython3",
   "version": "3.9.7"
  }
 },
 "nbformat": 4,
 "nbformat_minor": 5
}
